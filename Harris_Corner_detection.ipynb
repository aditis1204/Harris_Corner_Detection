{
  "nbformat": 4,
  "nbformat_minor": 0,
  "metadata": {
    "colab": {
      "name": "Harris_Corner_detection",
      "provenance": []
    },
    "kernelspec": {
      "name": "python3",
      "display_name": "Python 3"
    }
  },
  "cells": [
    {
      "cell_type": "code",
      "metadata": {
        "id": "Y_Aja5HLUY-G",
        "colab_type": "code",
        "colab": {}
      },
      "source": [
        "import numpy as np\n",
        "import cv2\n",
        "\n",
        "# Sobel x-axis kernel\n",
        "SOBEL_X = np.array((\n",
        "    [-1, 0, 1],\n",
        "    [-2, 0, 2],\n",
        "    [-1, 0, 1]), dtype=\"int32\")\n",
        "\n",
        "# Sobel y-axis kernel\n",
        "SOBEL_Y = np.array((\n",
        "    [-1, -2, -1],\n",
        "    [0, 0, 0],\n",
        "    [1, 2, 1]), dtype=\"int32\")\n",
        "\n",
        "# Gaussian kernel\n",
        "GAUSS = np.array((\n",
        "    [1/16, 2/16, 1/16],\n",
        "    [2/16, 4/16, 2/16],\n",
        "    [1/16, 2/16, 1/16]), dtype=\"float64\")\n",
        "\n",
        "\n",
        "def convolve(img, kernel):\n",
        "    \"\"\"Performs a naive convolution.\"\"\"\n",
        "    if kernel.shape[0] % 2 != 1 or kernel.shape[1] % 2 != 1:\n",
        "        raise ValueError(\"Only odd dimensions on filter supported\")\n",
        "\n",
        "    img_height = img.shape[0]\n",
        "    img_width = img.shape[1]\n",
        "    pad_height = kernel.shape[0] // 2\n",
        "    pad_width = kernel.shape[1] // 2\n",
        "    # Allocate result image.\n",
        "    pad = ((pad_height, pad_height), (pad_height, pad_width))\n",
        "    g = np.empty(img.shape, dtype=np.float64)\n",
        "    img = np.pad(img, pad, mode='constant', constant_values=0)\n",
        "    # Do convolution\n",
        "    for i in np.arange(pad_height, img_height+pad_height):\n",
        "        for j in np.arange(pad_width, img_width+pad_width):\n",
        "            roi = img[i - pad_height:i + pad_height +\n",
        "                      1, j - pad_width:j + pad_width + 1]\n",
        "            g[i - pad_height, j - pad_width] = (roi*kernel).sum()\n",
        "\n",
        "    if (g.dtype == np.float64):\n",
        "        kernel = kernel / 255.0\n",
        "        kernel = (kernel*255).astype(np.uint8)\n",
        "    else:\n",
        "        g = g + abs(np.amin(g))\n",
        "        g = g / np.amax(g)\n",
        "        g = (g*255.0)\n",
        "\n",
        "    return g\n",
        "\n",
        "\n",
        "def harris(img, threshold=0.6):\n",
        "\n",
        "    img_cpy = img.copy()\n",
        "\n",
        "    # Grayscale\n",
        "    img1_gray = cv2.cvtColor(img, cv2.COLOR_BGR2GRAY)\n",
        "\n",
        "    dx = convolve(img1_gray, SOBEL_X)\n",
        "    dy = convolve(img1_gray, SOBEL_Y)\n",
        "\n",
        "    dx2 = np.square(dx)\n",
        "    dy2 = np.square(dy)\n",
        "    dxdy = dx*dy\n",
        "\n",
        "    g_dx2 = convolve(dx2, GAUSS)\n",
        "    g_dy2 = convolve(dy2, GAUSS)\n",
        "    g_dxdy = convolve(dxdy, GAUSS)\n",
        "\n",
        "    harris = g_dx2*g_dy2 - np.square(g_dxdy) - 0.12*np.square(g_dx2 + g_dy2)\n",
        "\n",
        "    cv2.normalize(harris, harris, 0, 1, cv2.NORM_MINMAX)\n",
        "\n",
        "    # find all points above threshold\n",
        "    loc = np.where(harris >= threshold)\n",
        "    # loop though the points\n",
        "    for pt in zip(*loc[::-1]):\n",
        "        # draw filled circle on each point\n",
        "        cv2.circle(img_cpy, pt,5, (255, 0, 0), -1)\n",
        "\n",
        "    return img_cpy"
      ],
      "execution_count": 0,
      "outputs": []
    },
    {
      "cell_type": "code",
      "metadata": {
        "id": "sG8c4FliV3ou",
        "colab_type": "code",
        "outputId": "68fdc8d6-6f6c-442a-c353-738d1682dcde",
        "colab": {
          "base_uri": "https://localhost:8080/",
          "height": 34
        }
      },
      "source": [
        "\n",
        "%matplotlib inline\n",
        "import matplotlib.pyplot as plt\n",
        "import cv2\n",
        "print(\"OpenCV Version : {} \".format(cv2.__version__))\n"
      ],
      "execution_count": 39,
      "outputs": [
        {
          "output_type": "stream",
          "text": [
            "OpenCV Version : 4.1.2 \n"
          ],
          "name": "stdout"
        }
      ]
    },
    {
      "cell_type": "code",
      "metadata": {
        "id": "g8sTkeYpWAb8",
        "colab_type": "code",
        "outputId": "9091d96c-77bf-4552-ac3c-7da2369ced57",
        "colab": {
          "base_uri": "https://localhost:8080/",
          "height": 195
        }
      },
      "source": [
        "img = cv2.imread('/content/drive/My Drive/mtech_iitb/shap.png')\n",
        "# create copy\n",
        "\n",
        "corners = harris(img)\n",
        "\n",
        "# display images\n",
        "plt.figure(figsize=(10, 10))\n",
        "plt.subplot(121), plt.imshow(img)\n",
        "plt.title(\"Input Image\"), plt.xticks([]), plt.yticks([])\n",
        "plt.subplot(122), plt.imshow(corners)\n",
        "plt.title(\"Harris Corners\"), plt.xticks([]), plt.yticks([])\n",
        "plt.show()\n",
        "\n",
        "#cv2.imwrite(\"output/q1.png\", cv2.cvtColor(corners, cv2.COLOR_BGR2RGB))"
      ],
      "execution_count": 40,
      "outputs": [
        {
          "output_type": "display_data",
          "data": {
            "image/png": "[encoded data removed]",
            "text/plain": [
              "<Figure size 720x720 with 2 Axes>"
            ]
          },
          "metadata": {
            "tags": []
          }
        }
      ]
    },
    {
      "cell_type": "code",
      "metadata": {
        "id": "0Q6H5LHuYKvu",
        "colab_type": "code",
        "colab": {
          "base_uri": "https://localhost:8080/",
          "height": 304
        },
        "outputId": "369b878e-23ae-492f-ca0c-2dcf0da31db5"
      },
      "source": [
        "img = cv2.imread('/content/drive/My Drive/mtech_iitb/harris.jpg')\n",
        "# create copy\n",
        "\n",
        "corners = harris(img)\n",
        "\n",
        "# display images\n",
        "plt.figure(figsize=(10, 10))\n",
        "plt.subplot(121), plt.imshow(img)\n",
        "plt.title(\"Input Image\"), plt.xticks([]), plt.yticks([])\n",
        "plt.subplot(122), plt.imshow(corners)\n",
        "plt.title(\"Harris Corners\"), plt.xticks([]), plt.yticks([])\n",
        "plt.show()\n"
      ],
      "execution_count": 41,
      "outputs": [
        {
          "output_type": "display_data",
          "data": {
            "image/png": "[encoded data removed]",
            "text/plain": [
              "<Figure size 720x720 with 2 Axes>"
            ]
          },
          "metadata": {
            "tags": []
          }
        }
      ]
    },
    {
      "cell_type": "code",
      "metadata": {
        "id": "nqivC-FpRJa_",
        "colab_type": "code",
        "colab": {}
      },
      "source": [
        ""
      ],
      "execution_count": 0,
      "outputs": []
    }
  ]
}